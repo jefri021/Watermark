{
 "cells": [
  {
   "cell_type": "markdown",
   "metadata": {
    "id": "nbwhmX1XIZkT"
   },
   "source": [
    "<div align=center>\n",
    "\t\t\n",
    "<p></p>\n",
    "<p></p>\n",
    "<font size=5>\n",
    "In the Name of God\n",
    "<font/>\n",
    "<p></p>\n",
    " <br/>\n",
    "    <br/>\n",
    "    <br/>\n",
    "<font color=#FF7500>\n",
    "Sharif University of Technology - Departmenet of Computer Engineering\n",
    "</font>\n",
    "<p></p>\n",
    "<font color=blue>\n",
    "Linear Algebra \n",
    "<br>\n",
    "Prof. Hamid R. Rabiee\n",
    "<br>\n",
    "Dr. Maryam Ramezani\n",
    "</font>\n",
    "<br/>\n",
    "<br/>\n",
    "Fall 2022\n",
    "\n",
    "</div>\n",
    "\n",
    "<hr/>\n",
    "\t\t<div align=center>\n",
    "\t\t    <font color=red size=6>\n",
    "\t\t\t    <br />\n",
    "Project - Q1 <br>\n",
    "Watermark Images using SVD\n",
    "\n",
    "(35% of the overall project grade)\n",
    "            \t<br/>\n",
    "\t\t\t</font>\n",
    "<font size=4>\n",
    "\t\t\t<br/><br/>\n",
    "<font color=red>\n",
    "Please run all the cells.\n",
    "     </font>\n",
    "</font>\n",
    "<br>\n",
    "<font size=3 color=grey>\n",
    "</font>\n",
    "    </div>"
   ]
  },
  {
   "cell_type": "markdown",
   "metadata": {
    "id": "nHAwVOCSNYMV"
   },
   "source": [
    "Name: Erfan Jafari\n",
    "<br>\n",
    "Student Number: 400104891"
   ]
  },
  {
   "cell_type": "markdown",
   "metadata": {
    "id": "VCg4Lseuuo6B"
   },
   "source": [
    "# Watermark"
   ]
  },
  {
   "cell_type": "markdown",
   "metadata": {
    "id": "2NFw3t2j2bt7"
   },
   "source": [
    "A watermark is an image, overlay, or text that's placed over a digital asset. Usually, the image will be monochromatic and transparent, to enable others to still view the asset. You can read about the importance of the watermark in this [link](https://www.mediavalet.com/blog/watermarks-are-important/#)."
   ]
  },
  {
   "cell_type": "markdown",
   "metadata": {
    "id": "UlqdoYMKm-x3"
   },
   "source": [
    "# Add Watermark"
   ]
  },
  {
   "cell_type": "markdown",
   "metadata": {
    "id": "dCABtRMrhpmg"
   },
   "source": [
    "## Imports"
   ]
  },
  {
   "cell_type": "code",
   "execution_count": 1,
   "metadata": {
    "id": "oCnYQJ9PIZkb"
   },
   "outputs": [
    {
     "ename": "ModuleNotFoundError",
     "evalue": "No module named 'cv2'",
     "output_type": "error",
     "traceback": [
      "\u001b[1;31m---------------------------------------------------------------------------\u001b[0m",
      "\u001b[1;31mModuleNotFoundError\u001b[0m                       Traceback (most recent call last)",
      "Cell \u001b[1;32mIn [1], line 2\u001b[0m\n\u001b[0;32m      1\u001b[0m \u001b[38;5;28;01mimport\u001b[39;00m \u001b[38;5;21;01mnumpy\u001b[39;00m \u001b[38;5;28;01mas\u001b[39;00m \u001b[38;5;21;01mnp\u001b[39;00m\n\u001b[1;32m----> 2\u001b[0m \u001b[38;5;28;01mimport\u001b[39;00m \u001b[38;5;21;01mcv2\u001b[39;00m\n\u001b[0;32m      3\u001b[0m \u001b[38;5;28;01mfrom\u001b[39;00m \u001b[38;5;21;01mgoogle\u001b[39;00m\u001b[38;5;21;01m.\u001b[39;00m\u001b[38;5;21;01mcolab\u001b[39;00m\u001b[38;5;21;01m.\u001b[39;00m\u001b[38;5;21;01mpatches\u001b[39;00m \u001b[38;5;28;01mimport\u001b[39;00m cv2_imshow\n\u001b[0;32m      4\u001b[0m \u001b[38;5;28;01mfrom\u001b[39;00m \u001b[38;5;21;01mPIL\u001b[39;00m \u001b[38;5;28;01mimport\u001b[39;00m Image\n",
      "\u001b[1;31mModuleNotFoundError\u001b[0m: No module named 'cv2'"
     ]
    }
   ],
   "source": [
    "import numpy as np\n",
    "import cv2\n",
    "from google.colab.patches import cv2_imshow\n",
    "from PIL import Image"
   ]
  },
  {
   "cell_type": "markdown",
   "metadata": {
    "id": "d_TFYHuahxB3"
   },
   "source": [
    "## Load & Show Images\n",
    "If you are using colab, you can upload the files by running the following cell."
   ]
  },
  {
   "cell_type": "code",
   "execution_count": null,
   "metadata": {
    "id": "jVPaQaWZSHgZ"
   },
   "outputs": [],
   "source": [
    "from google.colab import files\n",
    "uploaded = files.upload()"
   ]
  },
  {
   "cell_type": "markdown",
   "metadata": {
    "id": "TvhK-cE9_lWI"
   },
   "source": [
    "In the following cell, load the original image and the logo from the folder add_watermark and plot them using the ```cv2``` library. \n",
    "\n",
    "Note: both the image and the logo should be gray-scale."
   ]
  },
  {
   "cell_type": "code",
   "execution_count": null,
   "metadata": {
    "id": "bLXgbQJbJgXO"
   },
   "outputs": [],
   "source": [
    "original_img = None\n",
    "watermark_img = None\n",
    "##################\n",
    "#   Code here    #\n",
    "#   5 points     #\n",
    "##################"
   ]
  },
  {
   "cell_type": "markdown",
   "metadata": {
    "id": "aI3VXegRx-SJ"
   },
   "source": [
    "## Implementation [50 points]"
   ]
  },
  {
   "cell_type": "markdown",
   "metadata": {
    "id": "j7moyGofyBnG"
   },
   "source": [
    "In this part you should add watermark to the original image. You should implement the following algorithm.\n",
    "\n",
    "1. Perform SVD on the original image (A matrix) and form the result as $USV^T$.\n",
    "\n",
    "2. Add watermark (W matrix), muliplied by a coefficine K, to the SVs of the original matrix. (S matrix in the previous step)\n",
    "\n",
    "3. Now, perform SVD again on matrix D.\n",
    "\n",
    "4. Replace the matrix S in the first step, with the SVs of the previous step (the middle matrix in step 3) to get the watermarked image.\n",
    "\n"
   ]
  },
  {
   "cell_type": "code",
   "execution_count": null,
   "metadata": {
    "id": "LClNFGnYIZkb"
   },
   "outputs": [],
   "source": [
    "def encode_watermark(original_img, watermark_img, watermarked_coeff=0.7):\n",
    "    \"\"\"\n",
    "    Args:\n",
    "        original_img (numpy.ndarray): Original Image\n",
    "        watermark_image (numpy.ndarray): Watermark Image\n",
    "\n",
    "    Returns:\n",
    "        numpy.ndarray: Watermarked Image\n",
    "    \"\"\"\n",
    "    ##################\n",
    "    #  Code here     #\n",
    "    #  40 points     #\n",
    "    ##################\n",
    "    watermarked_image = None\n",
    "    return watermarked_image"
   ]
  },
  {
   "cell_type": "markdown",
   "metadata": {
    "id": "EwAxZW_pAdii"
   },
   "source": [
    "Display the watermarked image. "
   ]
  },
  {
   "cell_type": "code",
   "execution_count": null,
   "metadata": {
    "id": "3Ao4CglBaMsC"
   },
   "outputs": [],
   "source": [
    "##################\n",
    "#  Code here     #\n",
    "#  5 points      #\n",
    "##################"
   ]
  },
  {
   "cell_type": "markdown",
   "metadata": {
    "id": "7W-uIXMgByti"
   },
   "source": [
    "Explain about the place you added the logo. How is the watermarked image visually different from the original image? [5 points]"
   ]
  },
  {
   "cell_type": "markdown",
   "metadata": {
    "id": "jf6U7aeYLQ1c"
   },
   "source": [
    "Answer: "
   ]
  },
  {
   "cell_type": "markdown",
   "metadata": {
    "id": "PHvgBKz60459"
   },
   "source": [
    "# Watermark Extraction [45 points]"
   ]
  },
  {
   "cell_type": "markdown",
   "metadata": {
    "id": "YOPa13hMpUCm"
   },
   "source": [
    "## Load Files"
   ]
  },
  {
   "cell_type": "code",
   "execution_count": null,
   "metadata": {
    "id": "sMnN2LEGtTsc"
   },
   "outputs": [],
   "source": [
    "from google.colab import files\n",
    "uploaded = files.upload()"
   ]
  },
  {
   "cell_type": "code",
   "execution_count": null,
   "metadata": {
    "id": "OMsDvnoRoXdm"
   },
   "outputs": [],
   "source": [
    "watermarked_u = np.load('watermarked_u.npy')\n",
    "watermarked_vh = np.load('watermarked_vh.npy')\n",
    "S = np.load('S.npy')\n",
    "watermarked_img = cv2.imread('extract_watermark/watermarked_image.jpg', 0)"
   ]
  },
  {
   "cell_type": "markdown",
   "metadata": {
    "id": "nR_SKsCYqo9y"
   },
   "source": [
    "## Implementation "
   ]
  },
  {
   "cell_type": "markdown",
   "metadata": {
    "id": "_oK9GxmByWx2"
   },
   "source": [
    "The task in this part is to extract the watermarked image from a distorted one ($A^*_w$ matrix) and write the sentence that is written in the watermarked image. The matrix of singular values (S) from the original image, $U_w$, $V^T_w$, and the watermarked image are given to you.\n",
    "\n",
    "1. Perform SVD on the distorted watermarked image ($A^*_w$ matrix) in the form of $U^* S^*_w V^{*T}$.\n",
    "\n",
    "2. Compute the matrix that includes the watermark by $D^* = U_w S^*_w V^T_w$.\n",
    "\n",
    "3. Compute the corrupted watermark by subtracting the matrix $S$ from $D^*$ and dividing the result by the coefficient of the watermark, $K$.\n"
   ]
  },
  {
   "cell_type": "code",
   "execution_count": null,
   "metadata": {
    "id": "des0DDGt25gw"
   },
   "outputs": [],
   "source": [
    "def get_watermark(watermarked_img, watermarked_u, S, watermarked_vh, watermarked_coeff):\n",
    "    ##################\n",
    "    #  Code here     #\n",
    "    #  35 points     #\n",
    "    ##################\n",
    "    watermark = None    \n",
    "    return watermark\n"
   ]
  },
  {
   "cell_type": "markdown",
   "metadata": {
    "id": "IbauGXQhFrJ4"
   },
   "source": [
    "Get the watermark logo and display it. Note that in this section we do not know the watermark coefficient. You have to run the previous cell's function for at least 5 different coefficients and compare the results.   "
   ]
  },
  {
   "cell_type": "code",
   "execution_count": null,
   "metadata": {
    "id": "KSooqGefGCS4"
   },
   "outputs": [],
   "source": [
    "##################\n",
    "#  Code here     #\n",
    "#  5 points      #\n",
    "##################"
   ]
  },
  {
   "cell_type": "markdown",
   "metadata": {
    "id": "tsbOXQpmIqX8"
   },
   "source": [
    "Explain the effect of different coefficient values on the quality of the displayed logo. [5 points]"
   ]
  },
  {
   "cell_type": "markdown",
   "metadata": {
    "id": "iTfEgFzlJKdY"
   },
   "source": [
    "Answer:"
   ]
  }
 ],
 "metadata": {
  "colab": {
   "provenance": []
  },
  "kernelspec": {
   "display_name": "Python 3 (ipykernel)",
   "language": "python",
   "name": "python3"
  },
  "language_info": {
   "codemirror_mode": {
    "name": "ipython",
    "version": 3
   },
   "file_extension": ".py",
   "mimetype": "text/x-python",
   "name": "python",
   "nbconvert_exporter": "python",
   "pygments_lexer": "ipython3",
   "version": "3.10.6"
  },
  "vscode": {
   "interpreter": {
    "hash": "ec415d86cb62838c02ce8418541071ab105638cb54d95f49357559783694be26"
   }
  }
 },
 "nbformat": 4,
 "nbformat_minor": 1
}
